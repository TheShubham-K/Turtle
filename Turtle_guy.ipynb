{
 "cells": [
  {
   "cell_type": "code",
   "execution_count": 1,
   "metadata": {},
   "outputs": [],
   "source": [
    "import turtle  # Allows u to use the turtles library\n",
    "\n",
    "wn = turtle.Screen()  #Create a graphiccs Window\n",
    "alex = turtle.Turtle() #Create a turtle named alex\n",
    "alex.forward(150)  #Tells the alex to move forward by 150 units\n",
    "alex.left(90)  #Turns by 90 degrees\n",
    "alex.forward(75) #completes the second side of a rectrangle"
   ]
  },
  {
   "cell_type": "code",
   "execution_count": 1,
   "metadata": {},
   "outputs": [],
   "source": [
    "import turtle\n",
    "\n",
    "wn = turtle.Screen()\n",
    "wn.bgcolor(\"lightgreen\")        # set the window background color\n",
    "\n",
    "tess = turtle.Turtle()\n",
    "tess.color(\"blue\")              # make tess blue\n",
    "tess.pensize(3)                 # set the width of her pen\n",
    "\n",
    "tess.forward(50)\n",
    "tess.left(120)\n",
    "tess.forward(50)\n",
    "\n",
    "wn.exitonclick()                # wait for a user click on the canvas"
   ]
  },
  {
   "cell_type": "code",
   "execution_count": 1,
   "metadata": {},
   "outputs": [],
   "source": [
    "import turtle\n",
    "\n",
    "wn = turtle.Screen()\n",
    "wn.bgcolor(\"green\")\n",
    "\n",
    "jamal = turtle.Turtle()\n",
    "jamal.color(\"white\")\n",
    "jamal.pensize(10)\n",
    "\n",
    "jamal.left(90)\n",
    "jamal.forward(150)\n",
    "\n",
    "jamal.left(90)\n",
    "jamal.forward(50)\n",
    "\n",
    "jamal.right(180)\n",
    "jamal.forward(100)\n",
    "\n",
    "wn.exitonclick()"
   ]
  },
  {
   "cell_type": "code",
   "execution_count": 1,
   "metadata": {},
   "outputs": [
    {
     "name": "stdout",
     "output_type": "stream",
     "text": [
      "500\n"
     ]
    }
   ],
   "source": [
    "import turtle\n",
    "\n",
    "wn = turtle.Screen()\n",
    "wn.bgcolor(\"lightgreen\")        # set the window background color\n",
    "\n",
    "tess = turtle.Turtle()\n",
    "tess.color(\"darkred\")              # make tess blue\n",
    "tess.pensize(5)                 # set the width of her pen\n",
    "\n",
    "alex = turtle.Turtle()\n",
    "alex.color(\"hotpink\")\n",
    "\n",
    "tess.forward(80)\n",
    "tess.left(120)\n",
    "tess.forward(80)\n",
    "tess.left(120)\n",
    "tess.forward(80)\n",
    "tess.left(120)\n",
    "\n",
    "tess.right(180)\n",
    "tess.forward(80)\n",
    "\n",
    "alex.forward(50)\n",
    "alex.left(90)\n",
    "alex.forward(50)\n",
    "alex.left(90)\n",
    "alex.forward(50)\n",
    "alex.left(90)\n",
    "alex.forward(50)\n",
    "alex.left(90)\n",
    "alex.price = 500\n",
    "print(alex.price)\n",
    "\n",
    "wn.exitonclick() "
   ]
  },
  {
   "cell_type": "code",
   "execution_count": 1,
   "metadata": {},
   "outputs": [],
   "source": [
    "import turtle\n",
    "wn = turtle.Screen()\n",
    "wn.bgcolor(\"blue\")\n",
    "\n",
    "elan = turtle.Turtle()\n",
    "\n",
    "distance = 50\n",
    "angle = 90\n",
    "for _ in range(30):\n",
    "    elan.forward(distance)\n",
    "    elan.right(angle)\n",
    "    distance = distance + 10\n",
    "    angle = angle - 2"
   ]
  },
  {
   "cell_type": "code",
   "execution_count": 1,
   "metadata": {},
   "outputs": [],
   "source": [
    "import turtle\n",
    "wn = turtle.Screen()\n",
    "wn.bgcolor(\"lightgreen\")\n",
    "\n",
    "elan = turtle.Turtle()\n",
    "elan.color(\"blue\")\n",
    "elan.shape(\"turtle\")\n",
    "\n",
    "distance = 5\n",
    "elan.up()\n",
    "angle = 24\n",
    "for _ in range(30):\n",
    "    elan.stamp()      # Leave an impression on the canvas\n",
    "    elan.forward(distance)\n",
    "    elan.right(angle)\n",
    "    distance = distance + 2\n",
    "wn.exitonclick()"
   ]
  }
 ],
 "metadata": {
  "kernelspec": {
   "display_name": "Python 3",
   "language": "python",
   "name": "python3"
  },
  "language_info": {
   "codemirror_mode": {
    "name": "ipython",
    "version": 3
   },
   "file_extension": ".py",
   "mimetype": "text/x-python",
   "name": "python",
   "nbconvert_exporter": "python",
   "pygments_lexer": "ipython3",
   "version": "3.7.1"
  }
 },
 "nbformat": 4,
 "nbformat_minor": 2
}
